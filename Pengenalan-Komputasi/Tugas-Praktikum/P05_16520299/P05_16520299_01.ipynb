{
 "cells": [
  {
   "cell_type": "code",
   "execution_count": 1,
   "metadata": {},
   "outputs": [],
   "source": [
    "# NIM/Nama  : 16520299/Malik Akbar Hashemi Rafsanjani\n",
    "# Tanggal   : 16 Desember 2020\n",
    "# Deskripsi : Diberikan data mata uang digital (cryptocurrency) pada file data \"cryto.csv\", \n",
    "#             lalu program akan menampilkan beberapa analisis dari data tersebut."
   ]
  },
  {
   "cell_type": "markdown",
   "metadata": {},
   "source": [
    "## Membaca Data"
   ]
  },
  {
   "cell_type": "code",
   "execution_count": 11,
   "metadata": {},
   "outputs": [],
   "source": [
    "# Import library pandas\n",
    "import pandas as pd\n",
    "\n",
    "df = pd.read_csv(\"crypto.csv\")"
   ]
  },
  {
   "cell_type": "markdown",
   "metadata": {},
   "source": [
    "## Mengakses Data"
   ]
  },
  {
   "cell_type": "code",
   "execution_count": 5,
   "metadata": {},
   "outputs": [
    {
     "name": "stdout",
     "output_type": "stream",
     "text": [
      "8219\n"
     ]
    }
   ],
   "source": [
    "# Jawaban 1\n",
    "# Banyaknya data\n",
    "\n",
    "print(len(df))"
   ]
  },
  {
   "cell_type": "code",
   "execution_count": 6,
   "metadata": {},
   "outputs": [
    {
     "data": {
      "text/html": [
       "<div>\n",
       "<style scoped>\n",
       "    .dataframe tbody tr th:only-of-type {\n",
       "        vertical-align: middle;\n",
       "    }\n",
       "\n",
       "    .dataframe tbody tr th {\n",
       "        vertical-align: top;\n",
       "    }\n",
       "\n",
       "    .dataframe thead th {\n",
       "        text-align: right;\n",
       "    }\n",
       "</style>\n",
       "<table border=\"1\" class=\"dataframe\">\n",
       "  <thead>\n",
       "    <tr style=\"text-align: right;\">\n",
       "      <th></th>\n",
       "      <th>name</th>\n",
       "      <th>date</th>\n",
       "      <th>ranknow</th>\n",
       "      <th>open</th>\n",
       "      <th>high</th>\n",
       "      <th>low</th>\n",
       "      <th>close</th>\n",
       "      <th>volume</th>\n",
       "      <th>market</th>\n",
       "      <th>close_ratio</th>\n",
       "      <th>spread</th>\n",
       "    </tr>\n",
       "  </thead>\n",
       "  <tbody>\n",
       "    <tr>\n",
       "      <th>0</th>\n",
       "      <td>BTC</td>\n",
       "      <td>2013-04-28</td>\n",
       "      <td>1</td>\n",
       "      <td>135.30</td>\n",
       "      <td>135.98</td>\n",
       "      <td>132.10</td>\n",
       "      <td>134.21</td>\n",
       "      <td>0.0</td>\n",
       "      <td>1.488567e+09</td>\n",
       "      <td>0.5438</td>\n",
       "      <td>3.88</td>\n",
       "    </tr>\n",
       "    <tr>\n",
       "      <th>1</th>\n",
       "      <td>BTC</td>\n",
       "      <td>2013-04-29</td>\n",
       "      <td>1</td>\n",
       "      <td>134.44</td>\n",
       "      <td>147.49</td>\n",
       "      <td>134.00</td>\n",
       "      <td>144.54</td>\n",
       "      <td>0.0</td>\n",
       "      <td>1.603769e+09</td>\n",
       "      <td>0.7813</td>\n",
       "      <td>13.49</td>\n",
       "    </tr>\n",
       "    <tr>\n",
       "      <th>2</th>\n",
       "      <td>BTC</td>\n",
       "      <td>2013-04-30</td>\n",
       "      <td>1</td>\n",
       "      <td>144.00</td>\n",
       "      <td>146.93</td>\n",
       "      <td>134.05</td>\n",
       "      <td>139.00</td>\n",
       "      <td>0.0</td>\n",
       "      <td>1.542813e+09</td>\n",
       "      <td>0.3843</td>\n",
       "      <td>12.88</td>\n",
       "    </tr>\n",
       "    <tr>\n",
       "      <th>3</th>\n",
       "      <td>BTC</td>\n",
       "      <td>2013-05-01</td>\n",
       "      <td>1</td>\n",
       "      <td>139.00</td>\n",
       "      <td>139.89</td>\n",
       "      <td>107.72</td>\n",
       "      <td>116.99</td>\n",
       "      <td>0.0</td>\n",
       "      <td>1.298955e+09</td>\n",
       "      <td>0.2882</td>\n",
       "      <td>32.17</td>\n",
       "    </tr>\n",
       "    <tr>\n",
       "      <th>4</th>\n",
       "      <td>BTC</td>\n",
       "      <td>2013-05-02</td>\n",
       "      <td>1</td>\n",
       "      <td>116.38</td>\n",
       "      <td>125.60</td>\n",
       "      <td>92.28</td>\n",
       "      <td>105.21</td>\n",
       "      <td>0.0</td>\n",
       "      <td>1.168517e+09</td>\n",
       "      <td>0.3881</td>\n",
       "      <td>33.32</td>\n",
       "    </tr>\n",
       "  </tbody>\n",
       "</table>\n",
       "</div>"
      ],
      "text/plain": [
       "  name        date  ranknow    open    high     low   close  volume  \\\n",
       "0  BTC  2013-04-28        1  135.30  135.98  132.10  134.21     0.0   \n",
       "1  BTC  2013-04-29        1  134.44  147.49  134.00  144.54     0.0   \n",
       "2  BTC  2013-04-30        1  144.00  146.93  134.05  139.00     0.0   \n",
       "3  BTC  2013-05-01        1  139.00  139.89  107.72  116.99     0.0   \n",
       "4  BTC  2013-05-02        1  116.38  125.60   92.28  105.21     0.0   \n",
       "\n",
       "         market  close_ratio  spread  \n",
       "0  1.488567e+09       0.5438    3.88  \n",
       "1  1.603769e+09       0.7813   13.49  \n",
       "2  1.542813e+09       0.3843   12.88  \n",
       "3  1.298955e+09       0.2882   32.17  \n",
       "4  1.168517e+09       0.3881   33.32  "
      ]
     },
     "execution_count": 6,
     "metadata": {},
     "output_type": "execute_result"
    }
   ],
   "source": [
    "# Jawaban 2\n",
    "# 5 data pertama\n",
    "\n",
    "df[:5]"
   ]
  },
  {
   "cell_type": "code",
   "execution_count": 8,
   "metadata": {},
   "outputs": [
    {
     "data": {
      "text/html": [
       "<div>\n",
       "<style scoped>\n",
       "    .dataframe tbody tr th:only-of-type {\n",
       "        vertical-align: middle;\n",
       "    }\n",
       "\n",
       "    .dataframe tbody tr th {\n",
       "        vertical-align: top;\n",
       "    }\n",
       "\n",
       "    .dataframe thead th {\n",
       "        text-align: right;\n",
       "    }\n",
       "</style>\n",
       "<table border=\"1\" class=\"dataframe\">\n",
       "  <thead>\n",
       "    <tr style=\"text-align: right;\">\n",
       "      <th></th>\n",
       "      <th>name</th>\n",
       "      <th>date</th>\n",
       "      <th>ranknow</th>\n",
       "      <th>open</th>\n",
       "      <th>high</th>\n",
       "      <th>low</th>\n",
       "      <th>close</th>\n",
       "      <th>volume</th>\n",
       "      <th>market</th>\n",
       "      <th>close_ratio</th>\n",
       "      <th>spread</th>\n",
       "    </tr>\n",
       "  </thead>\n",
       "  <tbody>\n",
       "    <tr>\n",
       "      <th>405</th>\n",
       "      <td>BTC</td>\n",
       "      <td>2014-06-07</td>\n",
       "      <td>1</td>\n",
       "      <td>653.52</td>\n",
       "      <td>656.94</td>\n",
       "      <td>644.91</td>\n",
       "      <td>654.97</td>\n",
       "      <td>15855300.0</td>\n",
       "      <td>8.428207e+09</td>\n",
       "      <td>0.8362</td>\n",
       "      <td>12.03</td>\n",
       "    </tr>\n",
       "    <tr>\n",
       "      <th>406</th>\n",
       "      <td>BTC</td>\n",
       "      <td>2014-06-08</td>\n",
       "      <td>1</td>\n",
       "      <td>654.99</td>\n",
       "      <td>658.88</td>\n",
       "      <td>653.47</td>\n",
       "      <td>656.14</td>\n",
       "      <td>8614190.0</td>\n",
       "      <td>8.445490e+09</td>\n",
       "      <td>0.4935</td>\n",
       "      <td>5.41</td>\n",
       "    </tr>\n",
       "    <tr>\n",
       "      <th>407</th>\n",
       "      <td>BTC</td>\n",
       "      <td>2014-06-09</td>\n",
       "      <td>1</td>\n",
       "      <td>655.64</td>\n",
       "      <td>657.70</td>\n",
       "      <td>644.39</td>\n",
       "      <td>649.16</td>\n",
       "      <td>19065400.0</td>\n",
       "      <td>8.358149e+09</td>\n",
       "      <td>0.3584</td>\n",
       "      <td>13.31</td>\n",
       "    </tr>\n",
       "    <tr>\n",
       "      <th>408</th>\n",
       "      <td>BTC</td>\n",
       "      <td>2014-06-10</td>\n",
       "      <td>1</td>\n",
       "      <td>650.04</td>\n",
       "      <td>659.61</td>\n",
       "      <td>646.56</td>\n",
       "      <td>653.15</td>\n",
       "      <td>17913400.0</td>\n",
       "      <td>8.412294e+09</td>\n",
       "      <td>0.5050</td>\n",
       "      <td>13.05</td>\n",
       "    </tr>\n",
       "    <tr>\n",
       "      <th>409</th>\n",
       "      <td>BTC</td>\n",
       "      <td>2014-06-11</td>\n",
       "      <td>1</td>\n",
       "      <td>653.19</td>\n",
       "      <td>657.04</td>\n",
       "      <td>632.55</td>\n",
       "      <td>633.02</td>\n",
       "      <td>25163800.0</td>\n",
       "      <td>8.155307e+09</td>\n",
       "      <td>0.0192</td>\n",
       "      <td>24.49</td>\n",
       "    </tr>\n",
       "  </tbody>\n",
       "</table>\n",
       "</div>"
      ],
      "text/plain": [
       "    name        date  ranknow    open    high     low   close      volume  \\\n",
       "405  BTC  2014-06-07        1  653.52  656.94  644.91  654.97  15855300.0   \n",
       "406  BTC  2014-06-08        1  654.99  658.88  653.47  656.14   8614190.0   \n",
       "407  BTC  2014-06-09        1  655.64  657.70  644.39  649.16  19065400.0   \n",
       "408  BTC  2014-06-10        1  650.04  659.61  646.56  653.15  17913400.0   \n",
       "409  BTC  2014-06-11        1  653.19  657.04  632.55  633.02  25163800.0   \n",
       "\n",
       "           market  close_ratio  spread  \n",
       "405  8.428207e+09       0.8362   12.03  \n",
       "406  8.445490e+09       0.4935    5.41  \n",
       "407  8.358149e+09       0.3584   13.31  \n",
       "408  8.412294e+09       0.5050   13.05  \n",
       "409  8.155307e+09       0.0192   24.49  "
      ]
     },
     "execution_count": 8,
     "metadata": {},
     "output_type": "execute_result"
    }
   ],
   "source": [
    "# Jawaban 3\n",
    "# Data ke 406 sampai 410 (inklusif)\n",
    "\n",
    "df[405:410]"
   ]
  },
  {
   "cell_type": "code",
   "execution_count": 9,
   "metadata": {},
   "outputs": [
    {
     "data": {
      "text/plain": [
       "BTC     2042\n",
       "XRP     1944\n",
       "XMR     1653\n",
       "USDT    1369\n",
       "ETH     1211\n",
       "Name: name, dtype: int64"
      ]
     },
     "execution_count": 9,
     "metadata": {},
     "output_type": "execute_result"
    }
   ],
   "source": [
    "# Jawaban 4\n",
    "# Jumlah data masing-masing koin\n",
    "\n",
    "df[\"name\"].value_counts()"
   ]
  },
  {
   "cell_type": "code",
   "execution_count": 10,
   "metadata": {},
   "outputs": [
    {
     "name": "stdout",
     "output_type": "stream",
     "text": [
      "Nilai korelasi antara nilai volume dan nilai close_ratio adalah 0.06928981923659848\n"
     ]
    }
   ],
   "source": [
    "# Jawaban 5\n",
    "# Nilai korelasi antara nilai volume dan nilai close_ratio\n",
    "\n",
    "print(\"Nilai korelasi antara nilai volume dan nilai close_ratio adalah \" + str(df[\"volume\"].corr(df[\"close_ratio\"])))\n",
    "\n",
    "# Karena nilai korelasi sekitar 0,07 dan mendekati 0, maka nilai volume dan nilai close_ratio \n",
    "# tidak berkorelasi (korelasi lurus tetapi sangat kecil/lemah)"
   ]
  }
 ],
 "metadata": {
  "kernelspec": {
   "display_name": "Python 3",
   "language": "python",
   "name": "python3"
  },
  "language_info": {
   "codemirror_mode": {
    "name": "ipython",
    "version": 3
   },
   "file_extension": ".py",
   "mimetype": "text/x-python",
   "name": "python",
   "nbconvert_exporter": "python",
   "pygments_lexer": "ipython3",
   "version": "3.8.5"
  }
 },
 "nbformat": 4,
 "nbformat_minor": 4
}
