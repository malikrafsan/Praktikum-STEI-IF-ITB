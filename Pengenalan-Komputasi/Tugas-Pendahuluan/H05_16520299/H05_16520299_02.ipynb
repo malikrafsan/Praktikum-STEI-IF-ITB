{
 "cells": [
  {
   "cell_type": "code",
   "execution_count": null,
   "metadata": {
    "id": "nUT0GBlNXkB1"
   },
   "outputs": [],
   "source": [
    "# NIM/Nama  : 16520299/Malik Akbar Hashemi Rafsanjani\n",
    "# Tanggal   : 13 Desember 2020\n",
    "# Deskripsi : Program disediakan file data \"nilai_uas.csv\" lalu program menampilkan analisis dari data tersebut"
   ]
  },
  {
   "cell_type": "markdown",
   "metadata": {
    "id": "IohUD3iJY-4B"
   },
   "source": [
    "## **Membaca Data**"
   ]
  },
  {
   "cell_type": "code",
   "execution_count": 31,
   "metadata": {
    "id": "qoUMfc9uY8nS"
   },
   "outputs": [],
   "source": [
    "# Mengimport library pandas\n",
    "import pandas as pd\n",
    "\n",
    "df = pd.read_csv(\"nilai_uas.csv\")"
   ]
  },
  {
   "cell_type": "markdown",
   "metadata": {
    "id": "XKWJbvOcZCjU"
   },
   "source": [
    "## **Mengakses Data**"
   ]
  },
  {
   "cell_type": "code",
   "execution_count": 21,
   "metadata": {},
   "outputs": [
    {
     "data": {
      "text/html": [
       "<div>\n",
       "<style scoped>\n",
       "    .dataframe tbody tr th:only-of-type {\n",
       "        vertical-align: middle;\n",
       "    }\n",
       "\n",
       "    .dataframe tbody tr th {\n",
       "        vertical-align: top;\n",
       "    }\n",
       "\n",
       "    .dataframe thead th {\n",
       "        text-align: right;\n",
       "    }\n",
       "</style>\n",
       "<table border=\"1\" class=\"dataframe\">\n",
       "  <thead>\n",
       "    <tr style=\"text-align: right;\">\n",
       "      <th></th>\n",
       "      <th>nama</th>\n",
       "      <th>nilai_kal</th>\n",
       "      <th>nilai_fis</th>\n",
       "      <th>nilai_kim</th>\n",
       "    </tr>\n",
       "  </thead>\n",
       "  <tbody>\n",
       "    <tr>\n",
       "      <th>391</th>\n",
       "      <td>Tuan Mor</td>\n",
       "      <td>94.76</td>\n",
       "      <td>67.5</td>\n",
       "      <td>24.82</td>\n",
       "    </tr>\n",
       "  </tbody>\n",
       "</table>\n",
       "</div>"
      ],
      "text/plain": [
       "         nama  nilai_kal  nilai_fis  nilai_kim\n",
       "391  Tuan Mor      94.76       67.5      24.82"
      ]
     },
     "execution_count": 21,
     "metadata": {},
     "output_type": "execute_result"
    }
   ],
   "source": [
    "# Menampilkan nilai kalkulus, fisika, dan kimia milik Tuan Mor\n",
    "df.loc[df[\"nama\"] == \"Tuan Mor\"].drop(columns=\"fakultas\")"
   ]
  },
  {
   "cell_type": "code",
   "execution_count": 23,
   "metadata": {},
   "outputs": [
    {
     "data": {
      "text/html": [
       "<div>\n",
       "<style scoped>\n",
       "    .dataframe tbody tr th:only-of-type {\n",
       "        vertical-align: middle;\n",
       "    }\n",
       "\n",
       "    .dataframe tbody tr th {\n",
       "        vertical-align: top;\n",
       "    }\n",
       "\n",
       "    .dataframe thead th {\n",
       "        text-align: right;\n",
       "    }\n",
       "</style>\n",
       "<table border=\"1\" class=\"dataframe\">\n",
       "  <thead>\n",
       "    <tr style=\"text-align: right;\">\n",
       "      <th></th>\n",
       "      <th>nama</th>\n",
       "      <th>fakultas</th>\n",
       "      <th>nilai_kal</th>\n",
       "      <th>nilai_fis</th>\n",
       "      <th>nilai_kim</th>\n",
       "    </tr>\n",
       "  </thead>\n",
       "  <tbody>\n",
       "    <tr>\n",
       "      <th>250</th>\n",
       "      <td>Cahyani Mora</td>\n",
       "      <td>FSRD</td>\n",
       "      <td>100.0</td>\n",
       "      <td>100.0</td>\n",
       "      <td>79.55</td>\n",
       "    </tr>\n",
       "  </tbody>\n",
       "</table>\n",
       "</div>"
      ],
      "text/plain": [
       "             nama fakultas  nilai_kal  nilai_fis  nilai_kim\n",
       "250  Cahyani Mora     FSRD      100.0      100.0      79.55"
      ]
     },
     "execution_count": 23,
     "metadata": {},
     "output_type": "execute_result"
    }
   ],
   "source": [
    "# Mahasiswa dengan nilai fisika tertinggi\n",
    "df.loc[df[\"nilai_fis\"] == df[\"nilai_fis\"].max()]"
   ]
  },
  {
   "cell_type": "code",
   "execution_count": 25,
   "metadata": {
    "colab": {
     "base_uri": "https://localhost:8080/",
     "height": 363
    },
    "id": "poY4ZjGfaaLH",
    "outputId": "8288168c-5e26-44ff-a5ba-e1e7c349d91f"
   },
   "outputs": [
    {
     "data": {
      "text/html": [
       "<div>\n",
       "<style scoped>\n",
       "    .dataframe tbody tr th:only-of-type {\n",
       "        vertical-align: middle;\n",
       "    }\n",
       "\n",
       "    .dataframe tbody tr th {\n",
       "        vertical-align: top;\n",
       "    }\n",
       "\n",
       "    .dataframe thead th {\n",
       "        text-align: right;\n",
       "    }\n",
       "</style>\n",
       "<table border=\"1\" class=\"dataframe\">\n",
       "  <thead>\n",
       "    <tr style=\"text-align: right;\">\n",
       "      <th></th>\n",
       "      <th>nama</th>\n",
       "      <th>fakultas</th>\n",
       "      <th>nilai_kal</th>\n",
       "      <th>nilai_fis</th>\n",
       "      <th>nilai_kim</th>\n",
       "    </tr>\n",
       "  </thead>\n",
       "  <tbody>\n",
       "    <tr>\n",
       "      <th>3074</th>\n",
       "      <td>Muhammadi Jumhur</td>\n",
       "      <td>FTSL</td>\n",
       "      <td>35.56</td>\n",
       "      <td>39.49</td>\n",
       "      <td>88.38</td>\n",
       "    </tr>\n",
       "    <tr>\n",
       "      <th>640</th>\n",
       "      <td>Grace Yoga</td>\n",
       "      <td>FTTM</td>\n",
       "      <td>42.24</td>\n",
       "      <td>48.16</td>\n",
       "      <td>86.26</td>\n",
       "    </tr>\n",
       "    <tr>\n",
       "      <th>18</th>\n",
       "      <td>Maria Manurung</td>\n",
       "      <td>FTMD</td>\n",
       "      <td>56.86</td>\n",
       "      <td>58.83</td>\n",
       "      <td>86.26</td>\n",
       "    </tr>\n",
       "    <tr>\n",
       "      <th>3469</th>\n",
       "      <td>Dhiya Wafa</td>\n",
       "      <td>SBM</td>\n",
       "      <td>68.89</td>\n",
       "      <td>76.51</td>\n",
       "      <td>85.73</td>\n",
       "    </tr>\n",
       "    <tr>\n",
       "      <th>661</th>\n",
       "      <td>Rasyid FH</td>\n",
       "      <td>FSRD</td>\n",
       "      <td>77.78</td>\n",
       "      <td>77.89</td>\n",
       "      <td>85.26</td>\n",
       "    </tr>\n",
       "    <tr>\n",
       "      <th>1884</th>\n",
       "      <td>Sukma Ulhaq</td>\n",
       "      <td>FITB</td>\n",
       "      <td>43.97</td>\n",
       "      <td>44.91</td>\n",
       "      <td>85.26</td>\n",
       "    </tr>\n",
       "    <tr>\n",
       "      <th>780</th>\n",
       "      <td>Rizam Rayhan</td>\n",
       "      <td>FSRD</td>\n",
       "      <td>72.15</td>\n",
       "      <td>71.38</td>\n",
       "      <td>85.07</td>\n",
       "    </tr>\n",
       "    <tr>\n",
       "      <th>283</th>\n",
       "      <td>WIJAYANTI Amadio</td>\n",
       "      <td>SITHS</td>\n",
       "      <td>61.96</td>\n",
       "      <td>57.73</td>\n",
       "      <td>85.07</td>\n",
       "    </tr>\n",
       "    <tr>\n",
       "      <th>3017</th>\n",
       "      <td>Jevon Tangguh</td>\n",
       "      <td>FMIPA</td>\n",
       "      <td>50.42</td>\n",
       "      <td>48.15</td>\n",
       "      <td>84.92</td>\n",
       "    </tr>\n",
       "    <tr>\n",
       "      <th>2487</th>\n",
       "      <td>Ediva zilva</td>\n",
       "      <td>SITHR</td>\n",
       "      <td>65.04</td>\n",
       "      <td>69.31</td>\n",
       "      <td>84.87</td>\n",
       "    </tr>\n",
       "  </tbody>\n",
       "</table>\n",
       "</div>"
      ],
      "text/plain": [
       "                  nama fakultas  nilai_kal  nilai_fis  nilai_kim\n",
       "3074  Muhammadi Jumhur     FTSL      35.56      39.49      88.38\n",
       "640         Grace Yoga     FTTM      42.24      48.16      86.26\n",
       "18      Maria Manurung     FTMD      56.86      58.83      86.26\n",
       "3469        Dhiya Wafa      SBM      68.89      76.51      85.73\n",
       "661          Rasyid FH     FSRD      77.78      77.89      85.26\n",
       "1884       Sukma Ulhaq     FITB      43.97      44.91      85.26\n",
       "780       Rizam Rayhan     FSRD      72.15      71.38      85.07\n",
       "283   WIJAYANTI Amadio    SITHS      61.96      57.73      85.07\n",
       "3017     Jevon Tangguh    FMIPA      50.42      48.15      84.92\n",
       "2487       Ediva zilva    SITHR      65.04      69.31      84.87"
      ]
     },
     "execution_count": 25,
     "metadata": {},
     "output_type": "execute_result"
    }
   ],
   "source": [
    "# 10 mahasiswa dengan nilai kimia tertinggi\n",
    "df.sort_values([\"nilai_kim\"], ascending=False)[:10]"
   ]
  },
  {
   "cell_type": "code",
   "execution_count": 28,
   "metadata": {
    "colab": {
     "base_uri": "https://localhost:8080/"
    },
    "id": "VEidCb9JrE1G",
    "outputId": "c2ddd8ee-1dcc-444a-e07c-b01563f54476"
   },
   "outputs": [
    {
     "name": "stdout",
     "output_type": "stream",
     "text": [
      "Banyaknya nilai kalkulus di bawah 50 adalah 1549\n"
     ]
    }
   ],
   "source": [
    "# Banyaknya nilai kalkulus di bawah 50\n",
    "print(\"Banyaknya nilai kalkulus di bawah 50 adalah \" + str(len(df.loc[df[\"nilai_kal\"] < 50])))"
   ]
  },
  {
   "cell_type": "code",
   "execution_count": 29,
   "metadata": {
    "colab": {
     "base_uri": "https://localhost:8080/"
    },
    "id": "2Uu_2pfVrLjI",
    "outputId": "372f7ee8-131e-4b7d-e64e-aef482b05f6f"
   },
   "outputs": [
    {
     "name": "stdout",
     "output_type": "stream",
     "text": [
      "Banyaknya mahasiswa FMIPA adalah 396\n"
     ]
    }
   ],
   "source": [
    "# Banyaknya mahasiswa FMIPA\n",
    "print(\"Banyaknya mahasiswa FMIPA adalah \" + str(len(df.loc[df[\"fakultas\"] == \"FMIPA\"])))"
   ]
  }
 ],
 "metadata": {
  "colab": {
   "name": "H05_16520299_02.ipynb",
   "provenance": []
  },
  "kernelspec": {
   "display_name": "Python 3",
   "language": "python",
   "name": "python3"
  },
  "language_info": {
   "codemirror_mode": {
    "name": "ipython",
    "version": 3
   },
   "file_extension": ".py",
   "mimetype": "text/x-python",
   "name": "python",
   "nbconvert_exporter": "python",
   "pygments_lexer": "ipython3",
   "version": "3.8.5"
  }
 },
 "nbformat": 4,
 "nbformat_minor": 1
}
